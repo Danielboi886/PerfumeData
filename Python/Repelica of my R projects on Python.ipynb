{
  "nbformat": 4,
  "nbformat_minor": 0,
  "metadata": {
    "colab": {
      "name": "Repelica of my R projects on Python.ipynb",
      "provenance": [],
      "collapsed_sections": [
        "Ch9vmBxNus5R"
      ],
      "toc_visible": true
    },
    "kernelspec": {
      "name": "python3",
      "display_name": "Python 3"
    },
    "language_info": {
      "name": "python"
    }
  },
  "cells": [
    {
      "cell_type": "markdown",
      "metadata": {
        "id": "S8zplOTpkuzx"
      },
      "source": [
        "# Repelica of my R projects on Python\n",
        "\n",
        "Daniel Wang\n",
        "\n",
        "6/18/2021"
      ]
    },
    {
      "cell_type": "markdown",
      "metadata": {
        "id": "URmcuKw9kg-l"
      },
      "source": [
        "I’d like to know what are the most common ingredients used in the this perfume data table. It has several steps:"
      ]
    },
    {
      "cell_type": "markdown",
      "metadata": {
        "id": "IInfMpT0k9MG"
      },
      "source": [
        "## Step 1: Install all required packages and load data"
      ]
    },
    {
      "cell_type": "code",
      "metadata": {
        "id": "AXr2q17slCcz"
      },
      "source": [
        "import os\n",
        "import pandas as pd\n",
        "perfumeData = pd.read_csv(\"https://www.dropbox.com/s/wvzevr0z39uf44x/final_perfume_data.csv?dl=1\", encoding='latin-1')"
      ],
      "execution_count": 9,
      "outputs": []
    },
    {
      "cell_type": "markdown",
      "metadata": {
        "id": "vGOLssn4pJvV"
      },
      "source": [
        "## Step 2: Data Cleaning!\n",
        "\n",
        "Take your broom with me and let’s see if the data is clean or not!\n",
        "\n",
        "After viewing the data, I spotted that in some rows, the value “note” is blank. For example:"
      ]
    },
    {
      "cell_type": "code",
      "metadata": {
        "colab": {
          "base_uri": "https://localhost:8080/"
        },
        "id": "k1GE-yIvpTaj",
        "outputId": "f7bba287-f6bb-4342-ec29-d4c9777aa717"
      },
      "source": [
        "perfumeData.loc[1494,:]"
      ],
      "execution_count": 10,
      "outputs": [
        {
          "output_type": "execute_result",
          "data": {
            "text/plain": [
              "Name                                   Rose Flash Parfum Extrait\n",
              "Brand                                                 Tauerville\n",
              "Description     While we've never had trouble getting excited...\n",
              "Notes                                                        NaN\n",
              "Image URL      https://static.luckyscent.com/images/products/...\n",
              "Name: 1494, dtype: object"
            ]
          },
          "metadata": {
            "tags": []
          },
          "execution_count": 10
        }
      ]
    },
    {
      "cell_type": "markdown",
      "metadata": {
        "id": "LYOZp3DAsH3v"
      },
      "source": [
        "Crap! It seems like the “notes” section is completely left blank! :-(\n",
        "\n",
        "But then let’s whip our magic wand and clean it in 1 second with dropna function!"
      ]
    },
    {
      "cell_type": "code",
      "metadata": {
        "id": "fdJKQG9buvnM"
      },
      "source": [
        "perfumeData_clean = perfumeData.dropna(0,'any')"
      ],
      "execution_count": 12,
      "outputs": []
    },
    {
      "cell_type": "markdown",
      "metadata": {
        "id": "3n6s1SMc7Htz"
      },
      "source": [
        "## Step 3: Split the strings & Count Frequencies & Plot it!"
      ]
    },
    {
      "cell_type": "code",
      "metadata": {
        "colab": {
          "base_uri": "https://localhost:8080/",
          "height": 431
        },
        "id": "02zdzepN7Mwh",
        "outputId": "529e042f-e07c-44ef-db2a-768fa0e736eb"
      },
      "source": [
        "ingredientsFreq = perfumeData_clean.Notes.str.split(pat=\", \", expand = True).stack().str.lower().str.strip().value_counts()\n",
        "ingredientsFreq[0:21].plot(kind=\"barh\", fontsize=12, figsize=(10,7)).invert_yaxis()\n"
      ],
      "execution_count": 13,
      "outputs": [
        {
          "output_type": "display_data",
          "data": {
            "image/png": "[encoded data removed]",
            "text/plain": [
              "<Figure size 720x504 with 1 Axes>"
            ]
          },
          "metadata": {
            "tags": [],
            "needs_background": "light"
          }
        }
      ]
    },
    {
      "cell_type": "markdown",
      "metadata": {
        "id": "cK13dPEQFE7S"
      },
      "source": [
        "\n",
        "The reason why the output is a bit different here is because of word counting methodologies are different between Pandas and smappR **(What is smappR? See the R markdown and knitted HTML file that I sent to you earlier!)**\n",
        "\n",
        "After carefully looking at the result, I found Panda counts strings like \"rose\" and \"bulgarian rose\" as two unique strings, thus it outputs 1 time \"rose\" and 1 time \"bulgarian rose\"  while word.frequencies in smappR counts them as 2 occourances under string \"rose\"."
      ]
    },
    {
      "cell_type": "markdown",
      "metadata": {
        "id": "7MYybiQLseLO"
      },
      "source": [
        "## Step 4: Using list comprehension for an ingredient palette"
      ]
    },
    {
      "cell_type": "code",
      "metadata": {
        "colab": {
          "base_uri": "https://localhost:8080/",
          "height": 669
        },
        "id": "0h5t9MIyfHFf",
        "outputId": "3774385f-b20e-4044-f7ac-b911adef81fd"
      },
      "source": [
        "from itertools import chain\n",
        "from collections import Counter\n",
        "IngList = perfumeData_clean.Notes.str.split(pat=\", \").tolist()\n",
        "RoseList = []\n",
        "matchword = \"rose\"\n",
        "for y in IngList:\n",
        "  for x in y:\n",
        "    if matchword == x:\n",
        "      RoseList.append(y)\n",
        "RoseFreq = Counter(chain.from_iterable(RoseList))\n",
        "Rosedf = pd.DataFrame(RoseFreq.items(), columns=['Ingredients', 'Frequencies']).sort_values(by=['Frequencies'], ascending=False)[0:20]\n",
        "Rosedf[0:21]"
      ],
      "execution_count": null,
      "outputs": [
        {
          "output_type": "execute_result",
          "data": {
            "text/html": [
              "<div>\n",
              "<style scoped>\n",
              "    .dataframe tbody tr th:only-of-type {\n",
              "        vertical-align: middle;\n",
              "    }\n",
              "\n",
              "    .dataframe tbody tr th {\n",
              "        vertical-align: top;\n",
              "    }\n",
              "\n",
              "    .dataframe thead th {\n",
              "        text-align: right;\n",
              "    }\n",
              "</style>\n",
              "<table border=\"1\" class=\"dataframe\">\n",
              "  <thead>\n",
              "    <tr style=\"text-align: right;\">\n",
              "      <th></th>\n",
              "      <th>Ingredients</th>\n",
              "      <th>Frequencies</th>\n",
              "    </tr>\n",
              "  </thead>\n",
              "  <tbody>\n",
              "    <tr>\n",
              "      <th>7</th>\n",
              "      <td>rose</td>\n",
              "      <td>301</td>\n",
              "    </tr>\n",
              "    <tr>\n",
              "      <th>15</th>\n",
              "      <td>musk</td>\n",
              "      <td>108</td>\n",
              "    </tr>\n",
              "    <tr>\n",
              "      <th>35</th>\n",
              "      <td>patchouli</td>\n",
              "      <td>105</td>\n",
              "    </tr>\n",
              "    <tr>\n",
              "      <th>27</th>\n",
              "      <td>sandalwood</td>\n",
              "      <td>99</td>\n",
              "    </tr>\n",
              "    <tr>\n",
              "      <th>10</th>\n",
              "      <td>jasmine</td>\n",
              "      <td>96</td>\n",
              "    </tr>\n",
              "    <tr>\n",
              "      <th>28</th>\n",
              "      <td>amber</td>\n",
              "      <td>94</td>\n",
              "    </tr>\n",
              "    <tr>\n",
              "      <th>69</th>\n",
              "      <td>vanilla</td>\n",
              "      <td>94</td>\n",
              "    </tr>\n",
              "    <tr>\n",
              "      <th>19</th>\n",
              "      <td>Bergamot</td>\n",
              "      <td>60</td>\n",
              "    </tr>\n",
              "    <tr>\n",
              "      <th>78</th>\n",
              "      <td>cedar</td>\n",
              "      <td>48</td>\n",
              "    </tr>\n",
              "    <tr>\n",
              "      <th>75</th>\n",
              "      <td>vetiver</td>\n",
              "      <td>43</td>\n",
              "    </tr>\n",
              "    <tr>\n",
              "      <th>121</th>\n",
              "      <td>violet</td>\n",
              "      <td>42</td>\n",
              "    </tr>\n",
              "    <tr>\n",
              "      <th>50</th>\n",
              "      <td>bergamot</td>\n",
              "      <td>41</td>\n",
              "    </tr>\n",
              "    <tr>\n",
              "      <th>16</th>\n",
              "      <td>oud</td>\n",
              "      <td>40</td>\n",
              "    </tr>\n",
              "    <tr>\n",
              "      <th>84</th>\n",
              "      <td>benzoin</td>\n",
              "      <td>37</td>\n",
              "    </tr>\n",
              "    <tr>\n",
              "      <th>11</th>\n",
              "      <td>leather</td>\n",
              "      <td>36</td>\n",
              "    </tr>\n",
              "    <tr>\n",
              "      <th>46</th>\n",
              "      <td>saffron</td>\n",
              "      <td>35</td>\n",
              "    </tr>\n",
              "    <tr>\n",
              "      <th>56</th>\n",
              "      <td>tonka bean</td>\n",
              "      <td>31</td>\n",
              "    </tr>\n",
              "    <tr>\n",
              "      <th>25</th>\n",
              "      <td>iris</td>\n",
              "      <td>31</td>\n",
              "    </tr>\n",
              "    <tr>\n",
              "      <th>48</th>\n",
              "      <td>oakmoss</td>\n",
              "      <td>30</td>\n",
              "    </tr>\n",
              "    <tr>\n",
              "      <th>119</th>\n",
              "      <td>cinnamon</td>\n",
              "      <td>30</td>\n",
              "    </tr>\n",
              "  </tbody>\n",
              "</table>\n",
              "</div>"
            ],
            "text/plain": [
              "    Ingredients  Frequencies\n",
              "7          rose          301\n",
              "15         musk          108\n",
              "35    patchouli          105\n",
              "27   sandalwood           99\n",
              "10      jasmine           96\n",
              "28        amber           94\n",
              "69      vanilla           94\n",
              "19     Bergamot           60\n",
              "78        cedar           48\n",
              "75      vetiver           43\n",
              "121      violet           42\n",
              "50     bergamot           41\n",
              "16          oud           40\n",
              "84      benzoin           37\n",
              "11      leather           36\n",
              "46      saffron           35\n",
              "56   tonka bean           31\n",
              "25         iris           31\n",
              "48      oakmoss           30\n",
              "119    cinnamon           30"
            ]
          },
          "metadata": {
            "tags": []
          },
          "execution_count": 100
        }
      ]
    },
    {
      "cell_type": "markdown",
      "metadata": {
        "id": "LIm8_GP9y_pu"
      },
      "source": [
        "Some technical explaination: \n",
        "\n",
        "We first need to have a look about what we are doing here: \n",
        "\n",
        "- Break the string chunks(series containing lists) in \"Notes\" into individual strings (nested lists) -> \n",
        "\n",
        "- Find a way to match target string with nested lists ->\n",
        "\n",
        "- Return lists that matches the target string ->\n",
        "\n",
        "- Flatten the nested lists and count word frequencies\n",
        "\n",
        "\n",
        "So here we start. After I break the **Notes** in **perfume_data** Table, I first of all want to know what data type it is: so I did:\n",
        "\n",
        "```\n",
        "print(type(perfumeData_clean.Notes.str.split(pat=\", \")))\n",
        "```\n",
        "Then I see it is a panda.series. I was looking for ways to achieve my goals but the only one I could find is pandas.series.str.match(), which is not what I want at all. Then I previewed the series a bit and realized it's a series containing multiple lists. After some online research, I figured list comprehension would be the best way to solve my problem. \n",
        "\n",
        "The logic of list comprehension is like this:\n",
        "\n",
        "(PSA: I used rose in example but musk in graph~~ Just too tired to change it all over again )\n",
        "\n",
        "\n",
        "\n",
        "\n",
        "\n",
        "\n",
        "\n",
        "\n"
      ]
    },
    {
      "cell_type": "markdown",
      "metadata": {
        "id": "cvkuw8FJle9R"
      },
      "source": [
        "![Untitled document.jpg](data:image/jpeg;base64,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)"
      ]
    },
    {
      "cell_type": "markdown",
      "metadata": {
        "id": "yM7Sx_RKmFJU"
      },
      "source": [
        "Finally we got a list pulled from the list comprehension, it looks like this: "
      ]
    },
    {
      "cell_type": "code",
      "metadata": {
        "colab": {
          "base_uri": "https://localhost:8080/"
        },
        "id": "ouBzWrS-meun",
        "outputId": "bc237e56-aeef-4d5d-f186-c96fb2ef39ed"
      },
      "source": [
        "print(*RoseList[0:10], sep=\"\\n\")\n"
      ],
      "execution_count": null,
      "outputs": [
        {
          "output_type": "stream",
          "text": [
            "[' Violet', 'champaca', 'rosewood', 'beeswax', 'frankincense', 'myrrh', 'coffee bean', 'rose', 'tobacco', 'hay', 'jasmine', 'leather', 'castoreum', 'hyrax', 'civet', 'musk', 'oud', 'turmeric', 'cumin']\n",
            "[' Bergamot', 'pink pepper', 'raspberry', 'rose', 'red satin lipstick', 'tuberose', 'cardamom', 'iris', 'cocoa', 'sandalwood', 'amber']\n",
            "[' Elemi', 'pink pepper', 'absinthe', 'olibanum', 'rose', 'Indian tuberose absolut', 'geranium', 'labdanum', 'patchouli', 'tonka and amber']\n",
            "[' clove', 'ash', 'sage', 'black pepper', 'labdanum', 'incense', 'rose', 'patchouli', 'leather', 'ambergris and moss']\n",
            "[' Bergamot', 'galbanum', 'birch leaf', 'pine', 'saffron', 'jasmine', 'fir balsam', 'rose', 'oakmoss', 'patchouli', 'musk', 'amber']\n",
            "[' Orange', 'bergamot', 'petitgrain', 'artemisia', 'basil', 'bulgarian lavender', 'geranium', 'rose', 'carnation', 'tonka bean', 'patchouli', 'moss', 'musk', 'leather', 'tabacco', 'amber']\n",
            "[' Bergamot', 'coriander', 'plum', 'coconut', 'strawberry', 'rose oxyde', 'Cumin', 'rose', 'tuberose', 'jasmin', 'heliotrope', 'gardenia', 'iris', 'Peach', 'oakmoss', 'vanilla', 'hay', 'castoreum', 'opoponax', 'musk', 'leather']\n",
            "[' Lemon', 'bergamot', 'grapefruit', 'jasmine', 'ylang-ylang', 'rose', 'magnolia', 'vetiver', 'patchouli and musk']\n",
            "[' Pear', 'plum', 'raspberry', 'jasmine', 'rose', 'cedar', 'peru balsam', 'musk', 'Mousse de Saxe accord']\n",
            "[' Mint', 'cotton candy', 'seaweed', 'benzoin', 'melon', 'metallic notes', 'rose']\n"
          ],
          "name": "stdout"
        }
      ]
    },
    {
      "cell_type": "markdown",
      "metadata": {
        "id": "o65PI_B4p8Md"
      },
      "source": [
        "Then you flatten the varible with chain.from_iterable(). \n",
        "\n",
        "\n",
        "See [here](https://docs.python.org/3/library/itertools.html) for how to use it.\n",
        "And just COUNT! Then transfer it to a dataframe for better readability! \n"
      ]
    },
    {
      "cell_type": "markdown",
      "metadata": {
        "id": "Ch9vmBxNus5R"
      },
      "source": [
        "## Step 5: My Perfume!\n",
        "Based on the data, you could already come up with your own formula! I picked the following ingredients.\n",
        "\n",
        "Let’s call this one **Zesty White**!\n",
        "\n",
        "**Zesty White**’s formula:\n",
        "\n",
        "\n",
        "> ***Bergamot, Jasmine, Rose, Musk, Incense, Ylang-ylang, Tuberose, Pepper, Labdanum, Lily, Benzoin***\n",
        "\n",
        "\n",
        "Let’s see if could find a similar formulation from other perfumer. Ah! I found one here:\n",
        "\n",
        "Nocturnes de Caron Caron\n",
        "\n",
        "https://www.fragrantica.com/perfume/Caron/Nocturnes-de-Caron-284.html\n",
        "\n",
        "Top Notes: Aldehydes, Neroli, Tincture of Rose, Organge\n",
        "\n",
        "Middle Notes: Ylang-ylang, Tuberose, Jasmine\n",
        "\n",
        "Base Notes: Vetiver, Sandalwood, Musk\n",
        "\n",
        "To be a certified perfumer, someone needs to finish a degree in chemistry and a 2-year of perfume school, then start apprenticeship for quite a a few years - there are only about 1,000 perfumer around the world! (source: https://fridaymagazine.ae/life-culture/ask-the-experts/how-to-become-a-perfumer-1.2305026, retrieved 11-06-2021) Think about how many perfumes there are in the market!\n",
        "\n",
        "Try it yourself!!"
      ]
    },
    {
      "cell_type": "markdown",
      "metadata": {
        "id": "XauZy2IF4NNN"
      },
      "source": [
        "# NLP & Emotion detection\n",
        "Daniel Wang\n",
        "\n",
        "6/20/2021"
      ]
    },
    {
      "cell_type": "markdown",
      "metadata": {
        "id": "MOrGpMM54pjQ"
      },
      "source": [
        "## Introduction\n",
        "In the last few projects, I used panda  create reports based on word frequencies. We knew that in this database, the most popular ingredients are amber, musk, vanilla, sandalwood. Later on, I was trying to figure out how each notes are “paired” by using list comprehension. \n",
        "\n",
        "However, this data base has a richer corpus that are waiting to be explored, the “description” data base. Let’s first have a look on what a “description” in this data base looks alike:"
      ]
    },
    {
      "cell_type": "code",
      "metadata": {
        "colab": {
          "base_uri": "https://localhost:8080/"
        },
        "id": "8rn3Fx5L5OcD",
        "outputId": "2e5e4817-6960-44be-83da-b6f67d8ed4c0"
      },
      "source": [
        "perfumeData_clean.loc[845]"
      ],
      "execution_count": null,
      "outputs": [
        {
          "output_type": "execute_result",
          "data": {
            "text/plain": [
              "Name                                    Woody Mood Eau de Parfum\n",
              "Brand                                           Olfactive Studio\n",
              "Description     With Woody Mood, perfumer Betrand Duchaufour ...\n",
              "Notes           bergamot, ginger, clary sage, saffron, sequoi...\n",
              "Image URL      https://static.luckyscent.com/images/products/...\n",
              "Name: 845, dtype: object"
            ]
          },
          "metadata": {
            "tags": []
          },
          "execution_count": 30
        }
      ]
    },
    {
      "cell_type": "markdown",
      "metadata": {
        "id": "ZlcrGnA66aOK"
      },
      "source": [
        "The “description” contains at least 4 sets of important information:\n",
        "\n",
        "The key ingredients composition. Key ingredients are a set of ingredients that makes the “note” of a perfume. This is exactly what we would like to gather from “make a palette” project. In this example, the wood, sage, rubbery black tea, cacao, and styrax are the key ingredients in this perfum.\n",
        "\n",
        "The “notes” (namely the theme & topic) of a perfume. “Notes” are a way to address a sort of perfume which holds similar “key ingredients”. Just like we can categorize different articles into romantics, Si-Fi, or thriller, we can also categorize perfumes into white flower notes or citrus notes. In this example, Woody Mood Eau de Parfum is a Wood Notes Perfume. You can explore more in https://www.fragrantica.com/notes/!\n",
        "\n",
        "The projection of perfume. “Projection” here means what the impression it leaves on people. For example, what images, memories, or sensations it can evoke. In our example, it is fantasies of fall – crisp air, sweet wood smoke, the crackle of leaves hitting the bonfire, compiling them into an autumnal essay that satisfies down to the bone.\n",
        "\n",
        "The emotional value of perfume. Look at the following words: beautifully, radiant, perfect, satisfactory, no-brainier. It seems the reviewer is quite happy with this perfume."
      ]
    },
    {
      "cell_type": "markdown",
      "metadata": {
        "id": "qJ1RWPrn8c2q"
      },
      "source": [
        "## Step 1 : Prepare the data & LDA"
      ]
    },
    {
      "cell_type": "markdown",
      "metadata": {
        "id": "ufh962CCzdZV"
      },
      "source": [
        "This version is heavily dependent on Jordan Barber's Blog Post: [Latent Dirichlet Allocation (LDA) with Python](https://http://rstudio-pubs-static.s3.amazonaws.com/79360_850b2a69980c4488b1db95987a24867a.html)\n",
        "\n",
        "First, what is LDA (Latent Dirichlet Allocation)? Basically you could think of that as iterative optimization of document-topic-word match. LDA will first randomly group documents as topics, and mash up all words to randomly fit them into topics, and compare it against the original documents to optimize the iteration process. It seems a total chaos to begin with and there seems to be endless combinations- but with iterative optimization, it is reachable. Although all far from original documents, the one with higher resemblance wins.\n",
        "\n",
        "For a more technical explanation of LDA, refer to http://ethen8181.github.io/machine-learning/clustering_old/topic_model/LDA.html"
      ]
    },
    {
      "cell_type": "code",
      "metadata": {
        "id": "xSG02cf8nNPL"
      },
      "source": [
        "pip install stop-words"
      ],
      "execution_count": null,
      "outputs": []
    },
    {
      "cell_type": "code",
      "metadata": {
        "colab": {
          "base_uri": "https://localhost:8080/"
        },
        "id": "wO09NV0JhzMb",
        "outputId": "ddc50166-635d-43eb-8093-56d28a32b6cb"
      },
      "source": [
        "import pandas as pd\n",
        "import nltk\n",
        "import numpy as np\n",
        "from nltk.tokenize import RegexpTokenizer\n",
        "from stop_words import get_stop_words\n",
        "from nltk.stem.porter import PorterStemmer\n",
        "from gensim import corpora, models\n",
        "import gensim\n",
        "\n",
        "tokenizer = RegexpTokenizer(r'\\w+')\n",
        "en_stop = get_stop_words('en')\n",
        "\n",
        "p_stemmer = PorterStemmer()\n",
        "\n",
        "\n",
        "pd.set_option(\"display.max_rows\", 20)\n",
        "des = perfumeData_clean[\"Description\"].str.split('.').apply(pd.Series,1).stack()\n",
        "des.index = des.index.droplevel(-2)\n",
        "des.replace('', np.nan, inplace=True)\n",
        "des.dropna(inplace=True)\n",
        "print(type(des))\n",
        "des_lst = des.tolist()\n",
        "des_lst\n",
        "\n",
        "tok = []\n",
        "\n",
        "for i in des_lst:\n",
        "  raw = i.lower()\n",
        "  tokens = tokenizer.tokenize(raw)\n",
        "  stopped_tokens = [i for i in tokens if not i in en_stop]\n",
        "  stemmed_tokens = [p_stemmer.stem(i) for i in stopped_tokens]\n",
        "  tok.append(stemmed_tokens)\n",
        "\n",
        "dictionary = corpora.Dictionary(tok)\n",
        "corpus = [dictionary.doc2bow(text) for text in tok]\n",
        "\n",
        "ldamodel = gensim.models.ldamodel.LdaModel(corpus, num_topics=8, id2word = dictionary, passes=20)\n",
        "\n",
        "lda_topic = print(ldamodel.print_topics(num_topics=8, num_words=20)) \n",
        "\n"
      ],
      "execution_count": null,
      "outputs": [
        {
          "output_type": "stream",
          "text": [
            "<class 'pandas.core.series.Series'>\n",
            "[(0, '0.033*\"s\" + 0.022*\"fragranc\" + 0.018*\"one\" + 0.015*\"t\" + 0.014*\"scent\" + 0.011*\"perfum\" + 0.010*\"like\" + 0.009*\"wear\" + 0.009*\"can\" + 0.008*\"love\" + 0.008*\"just\" + 0.008*\"make\" + 0.007*\"smell\" + 0.007*\"re\" + 0.006*\"perfect\" + 0.005*\"beauti\" + 0.005*\"want\" + 0.005*\"think\" + 0.005*\"bottl\" + 0.005*\"oud\"'), (1, '0.016*\"like\" + 0.012*\"s\" + 0.010*\"smell\" + 0.010*\"skin\" + 0.009*\"love\" + 0.008*\"us\" + 0.006*\"dream\" + 0.006*\"end\" + 0.006*\"light\" + 0.005*\"night\" + 0.005*\"flower\" + 0.005*\"away\" + 0.005*\"mysteri\" + 0.004*\"dark\" + 0.004*\"inspir\" + 0.004*\"even\" + 0.004*\"never\" + 0.004*\"let\" + 0.004*\"island\" + 0.004*\"littl\"'), (2, '0.016*\"scent\" + 0.012*\"long\" + 0.009*\"sea\" + 0.008*\"s\" + 0.007*\"last\" + 0.005*\"fragranc\" + 0.005*\"us\" + 0.005*\"perfum\" + 0.004*\"salt\" + 0.004*\"noth\" + 0.004*\"name\" + 0.004*\"ocean\" + 0.004*\"natur\" + 0.004*\"oil\" + 0.004*\"year\" + 0.003*\"effect\" + 0.003*\"centuri\" + 0.003*\"equal\" + 0.003*\"day\" + 0.003*\"though\"'), (3, '0.018*\"sweet\" + 0.018*\"vanilla\" + 0.015*\"note\" + 0.015*\"rich\" + 0.014*\"musk\" + 0.014*\"warm\" + 0.014*\"base\" + 0.014*\"amber\" + 0.012*\"soft\" + 0.012*\"wood\" + 0.011*\"floral\" + 0.011*\"scent\" + 0.010*\"patchouli\" + 0.009*\"creami\" + 0.009*\"sandalwood\" + 0.009*\"blend\" + 0.008*\"heart\" + 0.008*\"smooth\" + 0.007*\"sensual\" + 0.007*\"leather\"'), (4, '0.028*\"note\" + 0.023*\"open\" + 0.023*\"fresh\" + 0.021*\"green\" + 0.015*\"citru\" + 0.013*\"like\" + 0.011*\"orang\" + 0.010*\"sweet\" + 0.010*\"bergamot\" + 0.009*\"bright\" + 0.008*\"pepper\" + 0.007*\"tea\" + 0.007*\"top\" + 0.007*\"black\" + 0.007*\"blossom\" + 0.007*\"scent\" + 0.006*\"lemon\" + 0.006*\"cool\" + 0.006*\"aromat\" + 0.006*\"crisp\"'), (5, '0.022*\"s\" + 0.013*\"perfum\" + 0.011*\"fragranc\" + 0.008*\"scent\" + 0.007*\"new\" + 0.007*\"inspir\" + 0.006*\"first\" + 0.006*\"re\" + 0.006*\"name\" + 0.006*\"le\" + 0.006*\"world\" + 0.005*\"d\" + 0.005*\"memori\" + 0.005*\"time\" + 0.005*\"old\" + 0.005*\"one\" + 0.005*\"creat\" + 0.004*\"travel\" + 0.004*\"captur\" + 0.004*\"de\"'), (6, '0.024*\"rose\" + 0.012*\"s\" + 0.012*\"de\" + 0.010*\"floral\" + 0.010*\"scent\" + 0.010*\"classic\" + 0.010*\"fragranc\" + 0.009*\"flower\" + 0.008*\"oud\" + 0.007*\"ylang\" + 0.007*\"eau\" + 0.007*\"jasmin\" + 0.006*\"beauti\" + 0.006*\"fresh\" + 0.006*\"cologn\" + 0.006*\"eleg\" + 0.006*\"perfum\" + 0.006*\"natur\" + 0.005*\"new\" + 0.005*\"ingredi\"'), (7, '0.010*\"scent\" + 0.009*\"air\" + 0.008*\"incens\" + 0.007*\"smoke\" + 0.007*\"night\" + 0.006*\"far\" + 0.006*\"wood\" + 0.006*\"dark\" + 0.006*\"oud\" + 0.006*\"wind\" + 0.006*\"noir\" + 0.005*\"addict\" + 0.005*\"rise\" + 0.005*\"water\" + 0.005*\"leather\" + 0.004*\"mystic\" + 0.004*\"breath\" + 0.004*\"ancient\" + 0.004*\"heat\" + 0.004*\"enter\"')]\n"
          ],
          "name": "stdout"
        }
      ]
    },
    {
      "cell_type": "markdown",
      "metadata": {
        "id": "tyMXohbFx9f0"
      },
      "source": [
        "In case you can't figure out what is being printed out (honestly me neither), I have sort them out and put it down below\n",
        "\n",
        ">[(**0,**'0.017*\"scent\" + 0.011*\"green\" + 0.010*\"like\" + 0.008*\"s\" + 0.008*\"fresh\" + 0.007*\"sun\" + 0.006*\"skin\" + 0.006*\"earth\" + 0.006*\"fig\" + 0.005*\"sens\" + 0.005*\"smell\" + 0.005*\"tree\" + 0.005*\"day\" + 0.005*\"sparkl\" + 0.005*\"light\" + 0.005*\"long\" + 0.004*\"feel\" + 0.004*\"keep\" + 0.004*\"can\" + 0.004*\"last\"'),\n",
        "\n",
        "\n",
        ">(**1,** '0.021*\"note\" + 0.017*\"sweet\" + 0.016*\"rich\" + 0.015*\"vanilla\" + 0.014*\"floral\" + 0.012*\"wood\" + 0.012*\"base\" + 0.012*\"amber\" + 0.012*\"warm\" + 0.011*\"musk\" + 0.011*\"rose\" + 0.010*\"patchouli\" + 0.010*\"scent\" + 0.010*\"heart\" + 0.010*\"blend\" + 0.009*\"soft\" + 0.008*\"leather\" + 0.008*\"sandalwood\" + 0.008*\"spici\" + 0.008*\"spice\"'), \n",
        "\n",
        "\n",
        ">(**2,** '0.020*\"s\" + 0.017*\"fragranc\" + 0.012*\"eleg\" + 0.011*\"de\" + 0.009*\"modern\" + 0.009*\"classic\" + 0.008*\"scent\" + 0.008*\"perfum\" + 0.007*\"beauti\" + 0.007*\"eau\" + 0.006*\"parfum\" + 0.006*\"masculin\" + 0.006*\"power\" + 0.006*\"yet\" + 0.006*\"without\" + 0.005*\"man\" + 0.005*\"tri\" + 0.005*\"new\" + 0.005*\"sophist\" + 0.005*\"love\"'), \n",
        "\n",
        "\n",
        ">(**3,**'0.017*\"de\" + 0.017*\"rose\" + 0.010*\"flower\" + 0.008*\"beauti\" + 0.006*\"l\" + 0.006*\"perfum\" + 0.006*\"eau\" + 0.006*\"gardenia\" + 0.006*\"white\" + 0.005*\"re\" + 0.005*\"fragranc\" + 0.004*\"la\" + 0.004*\"garden\" + 0.004*\"oil\" + 0.004*\"essenti\" + 0.004*\"pure\" + 0.004*\"support\" + 0.004*\"simpl\" + 0.004*\"use\" + 0.004*\"hand\"'),\n",
        "\n",
        "\n",
        ">(**4,** '0.019*\"like\" + 0.010*\"us\" + 0.008*\"s\" + 0.007*\"dark\" + 0.006*\"mysteri\" + 0.005*\"forest\" + 0.005*\"wind\" + 0.005*\"light\" + 0.005*\"ancient\" + 0.005*\"air\" + 0.005*\"smoke\" + 0.005*\"night\" + 0.005*\"away\" + 0.005*\"sun\" + 0.004*\"queen\" + 0.004*\"incens\" + 0.004*\"desert\" + 0.004*\"burn\" + 0.004*\"sky\" + 0.004*\"remind\"'),\n",
        "\n",
        "\n",
        ">(**5,** '0.022*\"open\" + 0.022*\"fresh\" + 0.020*\"note\" + 0.017*\"orang\" + 0.016*\"green\" + 0.012*\"bergamot\" + 0.012*\"citru\" + 0.011*\"blossom\" + 0.010*\"sweet\" + 0.010*\"jasmin\" + 0.009*\"flower\" + 0.009*\"bright\" + 0.008*\"lemon\" + 0.008*\"top\" + 0.008*\"pepper\" + 0.007*\"like\" + 0.007*\"cool\" + 0.007*\"juici\" + 0.006*\"burst\" + 0.006*\"aromat\"'),\n",
        "\n",
        "\n",
        ">(**6,** '0.039*\"s\" + 0.016*\"perfum\" + 0.016*\"fragranc\" + 0.013*\"one\" + 0.010*\"name\" + 0.010*\"oud\" + 0.009*\"inspir\" + 0.009*\"new\" + 0.009*\"scent\" + 0.008*\"creat\" + 0.007*\"world\" + 0.007*\"use\" + 0.006*\"uniqu\" + 0.006*\"collect\" + 0.005*\"natur\" + 0.005*\"bottl\" + 0.005*\"oil\" + 0.005*\"ingredi\" + 0.005*\"materi\" + 0.005*\"time\"'), \n",
        "\n",
        "\n",
        ">(**7,** '0.022*\"s\" + 0.022*\"scent\" + 0.017*\"t\" + 0.016*\"fragranc\" + 0.013*\"one\" + 0.013*\"smell\" + 0.012*\"make\" + 0.011*\"just\" + 0.011*\"like\" + 0.010*\"can\" + 0.010*\"love\" + 0.007*\"wear\" + 0.007*\"will\" + 0.006*\"perfect\" + 0.006*\"re\" + 0.006*\"us\" + 0.005*\"ve\" + 0.005*\"yet\" + 0.005*\"never\" + 0.005*\"think\"')]\n"
      ]
    },
    {
      "cell_type": "markdown",
      "metadata": {
        "id": "metJyWbXfAEu"
      },
      "source": [
        "Let's see what theme could we generate:"
      ]
    },
    {
      "cell_type": "code",
      "metadata": {
        "colab": {
          "base_uri": "https://localhost:8080/",
          "height": 297
        },
        "id": "yezviZvagCQe",
        "outputId": "a78e7823-a675-421e-b188-7c8a7fd28075"
      },
      "source": [
        "p = {\"Notes\": [\"Green & Earth\", \"Sweet  &Amber & Musk\",\"Perfumes for Men\",\"Rose\",\"Incense & Smoke\", \"Bergamont & Organge\", \"Oud\", \"Perfume's General Emotional Projection\"], \"Projections\": [\"Light, fresh, sparking, and sunny\", \"Warm, soft\", \"morden,powerful, elegant, musculin, sophisticated\", \"Beautiful, Garden, Pure\", \"Dark, Mysterious, Ancient, Night\" , \"Fresh, bright, juicy, cool\", \"Inspiring, unique, collect, world, time\", \"Smell great, wears perfectly\"]}\n",
        "\n",
        "Projection= pd.DataFrame(data = p) \n",
        "\n",
        "Projection\n"
      ],
      "execution_count": 8,
      "outputs": [
        {
          "output_type": "execute_result",
          "data": {
            "text/html": [
              "<div>\n",
              "<style scoped>\n",
              "    .dataframe tbody tr th:only-of-type {\n",
              "        vertical-align: middle;\n",
              "    }\n",
              "\n",
              "    .dataframe tbody tr th {\n",
              "        vertical-align: top;\n",
              "    }\n",
              "\n",
              "    .dataframe thead th {\n",
              "        text-align: right;\n",
              "    }\n",
              "</style>\n",
              "<table border=\"1\" class=\"dataframe\">\n",
              "  <thead>\n",
              "    <tr style=\"text-align: right;\">\n",
              "      <th></th>\n",
              "      <th>Notes</th>\n",
              "      <th>Projections</th>\n",
              "    </tr>\n",
              "  </thead>\n",
              "  <tbody>\n",
              "    <tr>\n",
              "      <th>0</th>\n",
              "      <td>Green &amp; Earth</td>\n",
              "      <td>Light, fresh, sparking, and sunny</td>\n",
              "    </tr>\n",
              "    <tr>\n",
              "      <th>1</th>\n",
              "      <td>Sweet  &amp;Amber &amp; Musk</td>\n",
              "      <td>Warm, soft</td>\n",
              "    </tr>\n",
              "    <tr>\n",
              "      <th>2</th>\n",
              "      <td>Perfumes for Men</td>\n",
              "      <td>morden,powerful, elegant, musculin, sophisticated</td>\n",
              "    </tr>\n",
              "    <tr>\n",
              "      <th>3</th>\n",
              "      <td>Rose</td>\n",
              "      <td>Beautiful, Garden, Pure</td>\n",
              "    </tr>\n",
              "    <tr>\n",
              "      <th>4</th>\n",
              "      <td>Incense &amp; Smoke</td>\n",
              "      <td>Dark, Mysterious, Ancient, Night</td>\n",
              "    </tr>\n",
              "    <tr>\n",
              "      <th>5</th>\n",
              "      <td>Bergamont &amp; Organge</td>\n",
              "      <td>Fresh, bright, juicy, cool</td>\n",
              "    </tr>\n",
              "    <tr>\n",
              "      <th>6</th>\n",
              "      <td>Oud</td>\n",
              "      <td>Inspiring, unique, collect, world, time</td>\n",
              "    </tr>\n",
              "    <tr>\n",
              "      <th>7</th>\n",
              "      <td>Perfume's General Emotional Projection</td>\n",
              "      <td>Smell great, wears perfectly</td>\n",
              "    </tr>\n",
              "  </tbody>\n",
              "</table>\n",
              "</div>"
            ],
            "text/plain": [
              "                                    Notes                                        Projections\n",
              "0                           Green & Earth                  Light, fresh, sparking, and sunny\n",
              "1                    Sweet  &Amber & Musk                                         Warm, soft\n",
              "2                        Perfumes for Men  morden,powerful, elegant, musculin, sophisticated\n",
              "3                                    Rose                            Beautiful, Garden, Pure\n",
              "4                         Incense & Smoke                   Dark, Mysterious, Ancient, Night\n",
              "5                     Bergamont & Organge                         Fresh, bright, juicy, cool\n",
              "6                                     Oud            Inspiring, unique, collect, world, time\n",
              "7  Perfume's General Emotional Projection                       Smell great, wears perfectly"
            ]
          },
          "metadata": {
            "tags": []
          },
          "execution_count": 8
        }
      ]
    },
    {
      "cell_type": "markdown",
      "metadata": {
        "id": "CRyqgPq91vsp"
      },
      "source": [
        "## Step 2: Emotional Dectection"
      ]
    },
    {
      "cell_type": "markdown",
      "metadata": {
        "id": "rrj84Pdi3ED7"
      },
      "source": [
        "Most of the perfume would **LOVE** to give to a positive emotional projection. (because they want you to buy it!) \n",
        "\n",
        "But emotions are something that are very personal and the same bottle of perfume might elicit completely different emotions on different people! While at the same time, some perfume houses walked another way around, such as ***Serge Lutens***, they literally named one of their perfumes **“The orphan”**, and it smells like ***“you are in a depressing purgatory”*** (Source: https://www.fragrantica.com/perfume/Serge-Lutens/L-orpheline-26214.html).\n",
        "\n",
        "So I would like to do an emotional value detection on our data base to see what it looks like!\n",
        "\n",
        "to be continued......."
      ]
    }
  ]
}